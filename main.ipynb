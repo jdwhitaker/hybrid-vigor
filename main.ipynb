{
 "cells": [
  {
   "cell_type": "code",
   "execution_count": 17,
   "metadata": {},
   "outputs": [],
   "source": [
    "import json\n",
    "import pprint\n",
    "from sklearn.neural_network import MLPClassifier\n",
    "from sklearn.model_selection import train_test_split\n",
    "from sklearn.metrics import confusion_matrix\n",
    "\n",
    "# multi hot bag of bytes encoding\n",
    "def path_to_vector(path):\n",
    "    path_bytes = [i for i in bytes(path, 'ascii')]\n",
    "    vector = [0 for i in range(256)]\n",
    "    for i in path_bytes:\n",
    "        vector[i] = 1\n",
    "    return vector\n",
    "\n",
    "def classifier_performance_metrics(classifier, X_test, y_test):\n",
    "    y_test_pred = classifier.predict(X_test)\n",
    "    matrix = confusion_matrix(y_test, y_test_pred)\n",
    "    tn, fp, fn, tp = matrix.ravel()\n",
    "    accuracy = (tp + tn) / (tp + tn + fp + fn)\n",
    "    precision = tp / (tp + fp )\n",
    "    recall = tp / (tp + fn)\n",
    "    pprint.pprint({\n",
    "        \"tn\": tn, \n",
    "        \"fp\": fp, \n",
    "        \"fn\": fn, \n",
    "        \"tp\": tp\n",
    "    })\n",
    "    return {\n",
    "        \"accuracy\": accuracy,\n",
    "        \"precision\": precision,\n",
    "        \"recall\": recall\n",
    "    }\n",
    "\n",
    "X = []\n",
    "y = []\n",
    "\n",
    "with open('data/paths-benign.txt', 'r') as f:\n",
    "    for path in f.readlines():\n",
    "        path = path.strip()\n",
    "        X.append(path)\n",
    "        y.append(0)\n",
    "\n",
    "with open('data/paths-malicious.txt', 'r') as f:\n",
    "    for path in f.readlines():\n",
    "        path = path.strip()\n",
    "        X.append(path)\n",
    "        y.append(1)\n",
    "\n",
    "X_train, X_test, y_train, y_test = train_test_split(X, y, test_size=0.33, random_state=1234)\n"
   ]
  },
  {
   "cell_type": "code",
   "execution_count": 18,
   "metadata": {},
   "outputs": [
    {
     "name": "stdout",
     "output_type": "stream",
     "text": [
      "Neural network:\n",
      "{'fn': 4, 'fp': 0, 'tn': 2844, 'tp': 11}\n",
      "{'accuracy': 0.9986009094088842, 'precision': 1.0, 'recall': 0.7333333333333333}\n"
     ]
    }
   ],
   "source": [
    "nn_classifier = MLPClassifier(hidden_layer_sizes=(), random_state=1234)\n",
    "nn_classifier.fit([path_to_vector(x) for x in X_train], y_train)\n",
    "print(\"Neural network:\")\n",
    "pprint.pprint(classifier_performance_metrics(nn_classifier, [path_to_vector(x) for x in X_test], y_test))\n"
   ]
  },
  {
   "cell_type": "code",
   "execution_count": 19,
   "metadata": {},
   "outputs": [
    {
     "name": "stdout",
     "output_type": "stream",
     "text": [
      "[(' ', array([1.5640511])),\n",
      " (\"'\", array([1.55660452])),\n",
      " ('=', array([1.29466259])),\n",
      " (')', array([1.07534899])),\n",
      " ('(', array([1.03737089]))]\n"
     ]
    }
   ],
   "source": [
    "# Break open the black box to identify what bytes are signatures of SQL injection\n",
    "coefficients = [(chr(i), nn_classifier.coefs_[0][i]) for i in range(256)]\n",
    "coefficients = sorted(coefficients, key = lambda i: -i[1])\n",
    "pprint.pprint(coefficients[:5])"
   ]
  },
  {
   "cell_type": "code",
   "execution_count": 23,
   "metadata": {},
   "outputs": [
    {
     "name": "stdout",
     "output_type": "stream",
     "text": [
      "Space Classifier:\n",
      "{'fn': 4, 'fp': 0, 'tn': 2844, 'tp': 11}\n",
      "{'accuracy': 0.9986009094088842, 'precision': 1.0, 'recall': 0.7333333333333333}\n"
     ]
    }
   ],
   "source": [
    "from sklearn.base import BaseEstimator, ClassifierMixin\n",
    "\n",
    "class SpaceClassifier(BaseEstimator, ClassifierMixin):\n",
    "    def predict(self, X, y=None):\n",
    "        return [1 if ' ' in i else 0 for i in X]\n",
    "\n",
    "print(\"Space Classifier:\")\n",
    "space_classifier = SpaceClassifier()\n",
    "pprint.pprint(classifier_performance_metrics(space_classifier, X_test, y_test))\n"
   ]
  },
  {
   "cell_type": "code",
   "execution_count": 24,
   "metadata": {},
   "outputs": [
    {
     "name": "stdout",
     "output_type": "stream",
     "text": [
      "Quote Classifier:\n",
      "{'fn': 2, 'fp': 0, 'tn': 2844, 'tp': 13}\n",
      "{'accuracy': 0.9993004547044421, 'precision': 1.0, 'recall': 0.8666666666666667}\n"
     ]
    }
   ],
   "source": [
    "from sklearn.base import BaseEstimator, ClassifierMixin\n",
    "\n",
    "class QuoteClassifier(BaseEstimator, ClassifierMixin):\n",
    "    def predict(self, X, y=None):\n",
    "        return [1 if \"'\" in i else 0 for i in X]\n",
    "\n",
    "print(\"Quote Classifier:\")\n",
    "quote_classifier = QuoteClassifier()\n",
    "pprint.pprint(classifier_performance_metrics(quote_classifier, X_test, y_test))\n"
   ]
  },
  {
   "cell_type": "code",
   "execution_count": 25,
   "metadata": {},
   "outputs": [
    {
     "name": "stdout",
     "output_type": "stream",
     "text": [
      "Equals Classifier:\n",
      "{'fn': 7, 'fp': 0, 'tn': 2844, 'tp': 8}\n",
      "{'accuracy': 0.9975515914655474, 'precision': 1.0, 'recall': 0.5333333333333333}\n"
     ]
    }
   ],
   "source": [
    "from sklearn.base import BaseEstimator, ClassifierMixin\n",
    "\n",
    "class EqualsClassifier(BaseEstimator, ClassifierMixin):\n",
    "    def predict(self, X, y=None):\n",
    "        return [1 if \"=\" in i else 0 for i in X]\n",
    "\n",
    "print(\"Equals Classifier:\")\n",
    "equals_classifier = EqualsClassifier()\n",
    "pprint.pprint(classifier_performance_metrics(equals_classifier, X_test, y_test))\n"
   ]
  },
  {
   "cell_type": "code",
   "execution_count": 26,
   "metadata": {},
   "outputs": [
    {
     "name": "stdout",
     "output_type": "stream",
     "text": [
      "LeftParenthesis Classifier:\n",
      "{'fn': 6, 'fp': 0, 'tn': 2844, 'tp': 9}\n",
      "{'accuracy': 0.9979013641133263, 'precision': 1.0, 'recall': 0.6}\n"
     ]
    }
   ],
   "source": [
    "from sklearn.base import BaseEstimator, ClassifierMixin\n",
    "\n",
    "class LeftParenthesisClassifier(BaseEstimator, ClassifierMixin):\n",
    "    def predict(self, X, y=None):\n",
    "        return [1 if \"(\" in i else 0 for i in X]\n",
    "\n",
    "print(\"LeftParenthesis Classifier:\")\n",
    "left_parenthesis_classifier = LeftParenthesisClassifier()\n",
    "pprint.pprint(classifier_performance_metrics(left_parenthesis_classifier, X_test, y_test))\n"
   ]
  },
  {
   "cell_type": "code",
   "execution_count": 28,
   "metadata": {},
   "outputs": [
    {
     "name": "stdout",
     "output_type": "stream",
     "text": [
      "RightParenthesis Classifier:\n",
      "{'fn': 6, 'fp': 0, 'tn': 2844, 'tp': 9}\n",
      "{'accuracy': 0.9979013641133263, 'precision': 1.0, 'recall': 0.6}\n"
     ]
    }
   ],
   "source": [
    "from sklearn.base import BaseEstimator, ClassifierMixin\n",
    "\n",
    "class RightParenthesisClassifier(BaseEstimator, ClassifierMixin):\n",
    "    def predict(self, X, y=None):\n",
    "        return [1 if \")\" in i else 0 for i in X]\n",
    "\n",
    "print(\"RightParenthesis Classifier:\")\n",
    "right_parenthesis_classifier = RightParenthesisClassifier()\n",
    "pprint.pprint(classifier_performance_metrics(right_parenthesis_classifier, X_test, y_test))"
   ]
  }
 ],
 "metadata": {
  "kernelspec": {
   "display_name": "Python 3",
   "language": "python",
   "name": "python3"
  },
  "language_info": {
   "codemirror_mode": {
    "name": "ipython",
    "version": 3
   },
   "file_extension": ".py",
   "mimetype": "text/x-python",
   "name": "python",
   "nbconvert_exporter": "python",
   "pygments_lexer": "ipython3",
   "version": "3.9.6"
  },
  "orig_nbformat": 4,
  "vscode": {
   "interpreter": {
    "hash": "31f2aee4e71d21fbe5cf8b01ff0e069b9275f58929596ceb00d14d90e3e16cd6"
   }
  }
 },
 "nbformat": 4,
 "nbformat_minor": 2
}
